{
 "cells": [
  {
   "cell_type": "code",
   "execution_count": 1,
   "metadata": {},
   "outputs": [],
   "source": [
    "import re\n",
    "import platform\n",
    "import time\n",
    "import datetime\n",
    "import utils.data as data_handler\n",
    "from selenium import webdriver\n",
    "from selenium.webdriver.chrome.options import Options\n",
    "from cfg.config import config, CHROME_PATH\n",
    "from selenium.webdriver.common.desired_capabilities import DesiredCapabilities\n",
    "import sys\n",
    "from cfg.config import config\n",
    "import utils.mysqlutils as db\n",
    "from utils.redisquene import RedisQueue\n",
    "from sentence_splitter import SentenceSplitter, split_text_into_sentences"
   ]
  },
  {
   "cell_type": "code",
   "execution_count": 2,
   "metadata": {},
   "outputs": [],
   "source": [
    "q = RedisQueue()\n",
    "splitter = SentenceSplitter(language='en')"
   ]
  },
  {
   "cell_type": "code",
   "execution_count": 7,
   "metadata": {},
   "outputs": [
    {
     "name": "stdout",
     "output_type": "stream",
     "text": [
      "CRAWLER:15bc3b7f-5711-494a-8cc4-19138bb68331\n"
     ]
    }
   ],
   "source": [
    "data = q.get()"
   ]
  },
  {
   "cell_type": "code",
   "execution_count": 8,
   "metadata": {},
   "outputs": [
    {
     "name": "stdout",
     "output_type": "stream",
     "text": [
      "POST ID 778\n"
     ]
    }
   ],
   "source": [
    "url = data[b'url'].decode('utf8')\n",
    "content = data[b'content'].decode('utf8')\n",
    "tokenize_content = data[b'tokenize_content'].decode('utf8')\n",
    "symbol = data[b'symbol'].decode('utf8')\n",
    "summary = data[b'summary'].decode('utf8')\n",
    "date = data[b'date'].decode('utf8')\n",
    "image_url = data[b'image_url'].decode('utf8')\n",
    "title = data[b'title'].decode('utf8')\n",
    "created = data[b'created'].decode('utf8')\n",
    "postid = db.get_postID(url=url)\n",
    "list_keywords = db.get_keywords_by_stock_ticket(stock_ticket=symbol)\n",
    "print(\"POST ID\",postid)"
   ]
  },
  {
   "cell_type": "code",
   "execution_count": 9,
   "metadata": {},
   "outputs": [
    {
     "data": {
      "text/plain": [
       "['du lịch',\n",
       " 'hành khách',\n",
       " 'đường bay nội địa',\n",
       " 'đường bay quốc tế',\n",
       " 'sân bay',\n",
       " 'nhiên liệu']"
      ]
     },
     "execution_count": 9,
     "metadata": {},
     "output_type": "execute_result"
    }
   ],
   "source": [
    "list_keywords"
   ]
  },
  {
   "cell_type": "code",
   "execution_count": 14,
   "metadata": {},
   "outputs": [],
   "source": [
    "doclist_of_symbol = []\n",
    "clean_content = content.replace(',',' ')\n",
    "sentences_of_content = splitter.split(clean_content)\n",
    "for i in sentences_of_content:\n",
    "    res = [ele for ele in list_keywords if(ele in i)]\n",
    "    if res == []:    \n",
    "        pass\n",
    "    else:\n",
    "        doclist=doclist_of_symbol.append(i)\n",
    "        docstr_of = ' '.join(doclist)\n",
    "        print(docstr_of)"
   ]
  },
  {
   "cell_type": "code",
   "execution_count": 11,
   "metadata": {},
   "outputs": [
    {
     "ename": "NameError",
     "evalue": "name 'docstr_of' is not defined",
     "output_type": "error",
     "traceback": [
      "\u001b[1;31m---------------------------------------------------------------------------\u001b[0m",
      "\u001b[1;31mNameError\u001b[0m                                 Traceback (most recent call last)",
      "\u001b[1;32m<ipython-input-11-2d8b8456ae43>\u001b[0m in \u001b[0;36m<module>\u001b[1;34m\u001b[0m\n\u001b[1;32m----> 1\u001b[1;33m \u001b[0mprint\u001b[0m\u001b[1;33m(\u001b[0m\u001b[0mdocstr_of\u001b[0m\u001b[1;33m)\u001b[0m\u001b[1;33m\u001b[0m\u001b[1;33m\u001b[0m\u001b[0m\n\u001b[0m",
      "\u001b[1;31mNameError\u001b[0m: name 'docstr_of' is not defined"
     ]
    }
   ],
   "source": [
    "print(docstr_of)"
   ]
  },
  {
   "cell_type": "code",
   "execution_count": null,
   "metadata": {},
   "outputs": [],
   "source": []
  }
 ],
 "metadata": {
  "kernelspec": {
   "display_name": "Python 3",
   "language": "python",
   "name": "python3"
  },
  "language_info": {
   "codemirror_mode": {
    "name": "ipython",
    "version": 3
   },
   "file_extension": ".py",
   "mimetype": "text/x-python",
   "name": "python",
   "nbconvert_exporter": "python",
   "pygments_lexer": "ipython3",
   "version": "3.7.7"
  }
 },
 "nbformat": 4,
 "nbformat_minor": 4
}
